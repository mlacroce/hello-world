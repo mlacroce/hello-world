{
  "nbformat": 4,
  "nbformat_minor": 0,
  "metadata": {
    "colab": {
      "provenance": [],
      "collapsed_sections": [],
      "include_colab_link": true
    },
    "kernelspec": {
      "name": "python3",
      "display_name": "Python 3"
    },
    "language_info": {
      "name": "python"
    }
  },
  "cells": [
    {
      "cell_type": "markdown",
      "metadata": {
        "id": "view-in-github",
        "colab_type": "text"
      },
      "source": [
        "<a href=\"https://colab.research.google.com/github/mlacroce/hello-world/blob/master/mikeLacroce_ml3772.ipynb\" target=\"_parent\"><img src=\"https://colab.research.google.com/assets/colab-badge.svg\" alt=\"Open In Colab\"/></a>"
      ]
    },
    {
      "cell_type": "markdown",
      "metadata": {
        "id": "XfPPxiNPE-5j"
      },
      "source": [
        "# 8-puzzle"
      ]
    },
    {
      "cell_type": "markdown",
      "metadata": {
        "id": "7j_iGJlSFlxh"
      },
      "source": [
        "# Part 1"
      ]
    },
    {
      "cell_type": "markdown",
      "metadata": {
        "id": "gDN7feyWdQ1V"
      },
      "source": [
        "## Problem Formulation\n",
        "\n",
        "The 8 Puzzle Problem consists of a 3x3 tray in which the goal is to get the initial configuration to the goal state by shifting the numbered tiles into the blank space.\n",
        "\n",
        "example:\n",
        "\n",
        "          Initial State                        Goal State\n",
        "          | 1 | 2 | 5 |                       | 0 | 1 | 2 |\n",
        "          | 3 | 4 | 0 |                       | 3 | 4 | 5 |\n",
        "          | 6 | 7 | 8 |                       | 6 | 7 | 8 |\n",
        "\n",
        "We have a total of 9 blank tiles giving us a total of 9! initial configuration but not all of these are solvable. The solvability of a configuration can be checked by calculating the inversion permutation. If the total inversion permutation is even, then the initial configuration is solvable; else, the initial configuration is not solvable, meaning that only 9!/2 initial states lead to a solution.\n",
        "\n",
        "**What is inversion permutation**? A pair of tiles form an inversion permutation if the values on tiles are in reverse order of their appearance in goal state. For example, the following instance of 8 puzzle has two inversions, (8, 6) and (8, 7). \n",
        "```\n",
        " | 1 | 2 | 5 |                       \n",
        " | 3 | 4 | 0 |                       \n",
        " | 6 | 7 | 8 |    \n",
        "\n",
        "```\n",
        "\n",
        "\n"
      ]
    },
    {
      "cell_type": "markdown",
      "metadata": {
        "id": "R8kmM00YeUQU"
      },
      "source": [
        "For solving the puzzle, we need to formulate the problem first:\n",
        "\n",
        "**States**: \n",
        "  A representation of the configuration of the game.\n",
        "\n",
        "**Initial state**:\n",
        "  Initial configuration of the problem (e.g., starting position in a maze)\n",
        "\n",
        "**Actions**:\n",
        "The different ways in which the agent can change the state (e.g., moving to an adjacent position in the maze)\n",
        "\n",
        "**Goal condition**:\n",
        "A function that determines whether a state reached by a given sequence of actions constitutes a solution to the problem or not.\n",
        "\n"
      ]
    },
    {
      "cell_type": "markdown",
      "metadata": {
        "id": "dG_Wz0Lggk2u"
      },
      "source": [
        "## State Representation\n",
        "\n",
        "Assume that the board configuration is represented as a vector of 9 positions (each position represents one of the cells in the board, and 0 means blank)\n",
        "Initial state: (1,2,5,3,4,0,6,7,8) "
      ]
    },
    {
      "cell_type": "code",
      "metadata": {
        "id": "4F35WsW6xnP0"
      },
      "source": [
        "initialState = [1,2,5, 3,4,0, 6,7,8]\n",
        "goalState    = [0,1,2, 3,4,5, 6,7,8]"
      ],
      "execution_count": 4,
      "outputs": []
    },
    {
      "cell_type": "markdown",
      "metadata": {
        "id": "aXNCSvR7iHP3"
      },
      "source": [
        "Now we need a function to print out the board decently.\n",
        "\n",
        "Write a function that given a state, printouts a board similar to the example below.\n",
        "```\n",
        "print_state(initialState)\n",
        "\n",
        "1 | 2 | 5\n",
        "3 | 4 | 0\n",
        "6 | 7 | 8\n",
        "\n",
        "```\n",
        "\n"
      ]
    },
    {
      "cell_type": "code",
      "metadata": {
        "id": "j_tugqZ5iGfA"
      },
      "source": [
        "def print_state(state):\n",
        "  print(str(state[0]) + \" | \" + str(state[1]) + \" | \" + str(state[2]))\n",
        "  print(str(state[3]) + \" | \" + str(state[4]) + \" | \" + str(state[5]))\n",
        "  print(str(state[6]) + \" | \" + str(state[7]) + \" | \" + str(state[8]))\n",
        "  pass"
      ],
      "execution_count": 5,
      "outputs": []
    },
    {
      "cell_type": "code",
      "metadata": {
        "id": "CjJ3v2YfKKGz",
        "outputId": "1b4778af-5be3-4b6b-8815-c3cb5295ff58",
        "colab": {
          "base_uri": "https://localhost:8080/"
        }
      },
      "source": [
        "print_state(initialState)"
      ],
      "execution_count": 6,
      "outputs": [
        {
          "output_type": "stream",
          "name": "stdout",
          "text": [
            "1 | 2 | 5\n",
            "3 | 4 | 0\n",
            "6 | 7 | 8\n"
          ]
        }
      ]
    },
    {
      "cell_type": "markdown",
      "metadata": {
        "id": "EQPG4gBAj8g3"
      },
      "source": [
        "\n",
        "## Computing Available Action\n",
        "For this part, we need two functions:\n",
        "1.   Given a state returns a list of available moves.\n",
        "2.   Given a state and an action finds the result of making that move on the state.\n",
        "\n",
        "**Note**: pay attention that not all actions are permitted in all situations.\n",
        "\n",
        "Write two function for a list of available moves and applying a move on a state as states below. Here is an example:\n",
        "\n",
        "\n",
        "```\n",
        "for i in list_of_moves(initialState):\n",
        "  print (MOVES[i])\n",
        "\n",
        "UP\n",
        "DOWN\n",
        "LEFT\n",
        "\n",
        "print_state(make_a_move(initialState,DOWN))\n",
        "\n",
        "1 | 2 | 5\n",
        "3 | 4 | 8\n",
        "6 | 7 | 0\n",
        "\n",
        "```\n",
        "\n"
      ]
    },
    {
      "cell_type": "markdown",
      "metadata": {
        "id": "nkGQ7wq2Pb3F"
      },
      "source": [
        "> ### Coding hint: dictionaries\n",
        "Dictionaries are unordered collections of key:value pairs. One of the most powerful data structures and used extensively to store unstructured data. They are represented by { }."
      ]
    },
    {
      "cell_type": "code",
      "metadata": {
        "id": "twNFwBFCh6aS"
      },
      "source": [
        "# Moves\n",
        "DOWN = 3\n",
        "UP = -3\n",
        "RIGHT = 1\n",
        "LEFT = -1\n",
        "MOVES = { UP : \"UP\"  , DOWN : \"DOWN\" , RIGHT : \"RIGHT\" , LEFT : \"LEFT\" }\n"
      ],
      "execution_count": 7,
      "outputs": []
    },
    {
      "cell_type": "code",
      "metadata": {
        "id": "CjsAFdKB8LhN"
      },
      "source": [
        "def list_of_moves(state):\n",
        "  # print(state.index(0))\n",
        "  current_state = state.index(0)\n",
        "  possible_moves = []\n",
        "  if current_state != 2 and current_state != 5 and current_state != 8:\n",
        "    possible_moves.append(RIGHT)\n",
        "  if current_state != 0 and current_state != 1 and current_state != 2:\n",
        "    possible_moves.append(UP)\n",
        "  if current_state != 0 and current_state != 3 and current_state != 6:\n",
        "    possible_moves.append(LEFT)\n",
        "  if current_state != 6 and current_state != 7 and current_state != 8:\n",
        "    possible_moves.append(DOWN)\n",
        "  return possible_moves\n",
        "  # Your code here\n",
        "  # Your function should return a list of integers that represent the move shown above \n",
        "  pass\n"
      ],
      "execution_count": 8,
      "outputs": []
    },
    {
      "cell_type": "code",
      "metadata": {
        "id": "hUE22JIYQNPF",
        "outputId": "271c7c5e-0d55-4f7e-f68e-8bce5fe8aa62",
        "colab": {
          "base_uri": "https://localhost:8080/"
        }
      },
      "source": [
        "for i in list_of_moves(initialState):\n",
        "  print (MOVES[i])"
      ],
      "execution_count": 9,
      "outputs": [
        {
          "output_type": "stream",
          "name": "stdout",
          "text": [
            "UP\n",
            "LEFT\n",
            "DOWN\n"
          ]
        }
      ]
    },
    {
      "cell_type": "code",
      "metadata": {
        "id": "APFRCK0B8Iv_"
      },
      "source": [
        "def make_a_move(state, move):\n",
        "  if move in list_of_moves(state):\n",
        "    current_state = state.index(0)\n",
        "    next_state = current_state + move\n",
        "    state_number = state[next_state]\n",
        "    state[current_state] = state_number\n",
        "    state[next_state] = 0\n",
        "    return state\n",
        "  else:\n",
        "    print(\"error, invalid move\")\n",
        "  # your code here\n",
        "  pass\n"
      ],
      "execution_count": 11,
      "outputs": []
    },
    {
      "cell_type": "code",
      "metadata": {
        "id": "Mb8d3-tzQSBM",
        "colab": {
          "base_uri": "https://localhost:8080/"
        },
        "outputId": "ce241154-0229-446b-db80-129ac2c00606"
      },
      "source": [
        "print_state(make_a_move(initialState,UP))\n",
        "  "
      ],
      "execution_count": 12,
      "outputs": [
        {
          "output_type": "stream",
          "name": "stdout",
          "text": [
            "1 | 2 | 0\n",
            "3 | 4 | 5\n",
            "6 | 7 | 8\n"
          ]
        }
      ]
    },
    {
      "cell_type": "markdown",
      "metadata": {
        "id": "KsgeZXUqxuJ8"
      },
      "source": [
        ">### Coding hint: assert \n",
        "Assert is a great tool for debugging code. The assert keyword lets you test if a condition in your code returns True; if not, the program will raise an AssertionError. You can also write a message to be written if the code returns False."
      ]
    },
    {
      "cell_type": "markdown",
      "metadata": {
        "id": "AR-INpp8yahN"
      },
      "source": [
        ">### Coding hint: try and except\n",
        "The basic terminology and syntax used to handle errors in Python are the <code>try</code> and <code>except</code> statements. The code which can cause an exception to occur is put in the <code>try</code> block and the handling of the exception is then implemented in the <code>except</code> block of code. The syntax follows:\n",
        "```\n",
        "    try:\n",
        "       You do your operations here...\n",
        "       ...\n",
        "    except ExceptionI:\n",
        "       If there is ExceptionI, then execute this block.\n",
        "    except ExceptionII:\n",
        "       If there is ExceptionII, then execute this block.\n",
        "       ...\n",
        "    else:\n",
        "       If there is no exception, then execute this block. \n",
        "```\n",
        "We can also just check for any exception with just using <code>except:</code> \n"
      ]
    },
    {
      "cell_type": "markdown",
      "metadata": {
        "id": "tRgU8NPaANl9"
      },
      "source": [
        "## Identifying Solutions\n",
        "\n",
        "We also need a method that determines whether the given state is at the solution state. This should be very easy: if the state vector is identical to the goal state. We can return true or false here.\n",
        "\n",
        "Here is an example:\n",
        "\n",
        "\n",
        "\n",
        "```\n",
        "print(at_goal(initialState))\n",
        "\n",
        "False\n",
        "```\n",
        "\n"
      ]
    },
    {
      "cell_type": "code",
      "metadata": {
        "id": "pxwoF_rjApvT"
      },
      "source": [
        "def at_goal(state):\n",
        "  if goalState == state:\n",
        "    return True\n",
        "  else:\n",
        "    return False  \n",
        "  pass"
      ],
      "execution_count": 13,
      "outputs": []
    },
    {
      "cell_type": "code",
      "metadata": {
        "id": "-g_dPy4GQXxz",
        "colab": {
          "base_uri": "https://localhost:8080/"
        },
        "outputId": "77bf5f4f-5b07-447b-967f-d99ff9b920ec"
      },
      "source": [
        "print(at_goal(initialState))"
      ],
      "execution_count": 14,
      "outputs": [
        {
          "output_type": "stream",
          "name": "stdout",
          "text": [
            "False\n"
          ]
        }
      ]
    },
    {
      "cell_type": "markdown",
      "source": [
        "## identifying solvablity\n",
        "\n",
        "Based on what we learn from the number of inverse permutations, write a function that returns true if given 8 puzzle is solvable and false otherwise."
      ],
      "metadata": {
        "id": "9Y9mbg-Tcn_X"
      }
    },
    {
      "cell_type": "code",
      "source": [
        "def isSolvable(state):\n",
        "  total_inversions = 0\n",
        "  for j in state:\n",
        "    for k in range (j, 8):\n",
        "      if state[j] != 0 and state[k] != 0:\n",
        "        if state[j] > state[k]:\n",
        "          total_inversions += 1\n",
        "  if (total_inversions % 2) == 0:\n",
        "    return True\n",
        "  else:\n",
        "    return False\n",
        "\n",
        "    \n",
        "  pass"
      ],
      "metadata": {
        "id": "USL6NAEscnej"
      },
      "execution_count": 23,
      "outputs": []
    },
    {
      "cell_type": "code",
      "source": [
        "print(isSolvable([1,2,5, 3,4,0, 6,7,8]))\n",
        "print(isSolvable([1,2,3, 4,5,0, 6,7,8]))"
      ],
      "metadata": {
        "id": "6QcFuldfeCwy",
        "colab": {
          "base_uri": "https://localhost:8080/"
        },
        "outputId": "fd060f25-75b1-4fcc-c4ac-25332db8c6b2"
      },
      "execution_count": 22,
      "outputs": [
        {
          "output_type": "stream",
          "name": "stdout",
          "text": [
            "2\n",
            "True\n",
            "0\n",
            "True\n"
          ]
        }
      ]
    },
    {
      "cell_type": "markdown",
      "metadata": {
        "id": "rDYi2G2JEm5s"
      },
      "source": [
        "\n",
        "\n",
        "\n",
        "\n",
        "# Part 2\n",
        "\n",
        "\n"
      ]
    },
    {
      "cell_type": "markdown",
      "metadata": {
        "id": "dHMUdnvHBot_"
      },
      "source": [
        "## Searching for Solutions\n",
        "\n",
        "For this part, we have to implement a class that represents a sequence of actions and a state. These will be the nodes that we will search in the tree. \n",
        "\n",
        "> **Implementation note**: Remember the distinction between state and node. For node, it is important to remember the actions, so that once the solution is found, we can reconstruct the path:\n",
        "* State: the configuration of the problem (e.g., an array representing the 8-puzzle)\n",
        "* Node: a state plus a list of actions that got us here from the initial state.\n",
        "\n",
        "We need methods to add() (to add an action to the path), clone() (to clone the path for branching), state() (to return the current state), and whatever else is needed.\n"
      ]
    },
    {
      "cell_type": "code",
      "metadata": {
        "id": "HvbYpc7LJHti",
        "colab": {
          "base_uri": "https://localhost:8080/"
        },
        "outputId": "0115b619-c56e-4848-efc2-c86beef28441"
      },
      "source": [
        "class Node:\n",
        "  def __init__(self, state, moves = None):\n",
        "      if isinstance(moves and state, list):\n",
        "          self.moves = moves\n",
        "          self.state = state\n",
        "      elif moves is not None:\n",
        "          self.moves = [moves]\n",
        "          self.state = state\n",
        "      else:\n",
        "          self.moves = []\n",
        "          self.state = state\n",
        "\n",
        "  def clone(self):\n",
        "      return Node(self.state, moves=list(self.moves))\n",
        "\n",
        "  def add_move(self, move):\n",
        "      self.moves.append(move)\n",
        "      self.state = make_a_move(self.state,move)\n",
        "      return self\n",
        "\n",
        "  def size(self):\n",
        "      return len(self.moves)    \n",
        "  \n",
        "  def __str__(self):\n",
        "    s = ''\n",
        "    for i in range(p.size()):\n",
        "      s += MOVES[p.moves[i]] + ' '\n",
        "    return s\n",
        "\n",
        "p = Node(initialState, [UP])\n",
        "print(p)"
      ],
      "execution_count": 27,
      "outputs": [
        {
          "output_type": "stream",
          "name": "stdout",
          "text": [
            "UP \n"
          ]
        }
      ]
    },
    {
      "cell_type": "markdown",
      "metadata": {
        "id": "C4UhGAJTKaOG"
      },
      "source": [
        ">### Coding hint: ```__init__```\n",
        "The ```__init__``` method is similar to constructors in C++ and Java. Constructors are used to initialize the object’s state. The task of constructors is to initialize (assign values) to the data members of the class when an object of class is created. Like methods, a constructor also contains collection of statements(i.e. instructions) that are executed at time of object creation. It is run as soon as an object of a class \n",
        "is instantiated.\n",
        "\n",
        "\n"
      ]
    },
    {
      "cell_type": "markdown",
      "metadata": {
        "id": "SEfuvwJiJpK7"
      },
      "source": [
        "> ### Coding Hint: ``` __str__ ```\n",
        "This method returns the string representation of the object. This method is called when print() or str() function is invoked on an object."
      ]
    },
    {
      "cell_type": "markdown",
      "metadata": {
        "id": "CUqcXfyCpEJR"
      },
      "source": [
        "## Breadth-First Search\n",
        "\n",
        "Now we write a method that does a breadth-first search from the given state, returning the first path found that reaches the solution state. \n",
        "THe psuedocode for BFS is below:\n",
        "```\n",
        "BFS (Start)\n",
        "  OPEN = [Start]\n",
        "  CLOSED = []\n",
        "  WHILE OPEN is not empty\n",
        "    N = OPEN.removeFirst()\n",
        "    IF goal(N) THEN RETURN path to N\n",
        "    CLOSED.add(N)\n",
        "    FOR all children C of N that are not in CLOSED:\n",
        "      C.parent = N\n",
        "      OPEN.add(C)\n",
        "    ENDFOR\n",
        "  ENDWHILE\n",
        "```\n",
        "This search algorithm explores nodes in the search space until the goal is found.\n",
        "\n",
        "At each point in time, two lists of nodes:\n",
        "* Explored nodes (CLOSED)\n",
        "* Candidates to be explored (OPEN)\n",
        "\n",
        "Note: BFS will find the optimal solution at the end of the run, but there is a high computational cost: it will explore too many cells of the tree to find the solution.\n"
      ]
    },
    {
      "cell_type": "code",
      "metadata": {
        "id": "TzvSizlVN0W4"
      },
      "source": [
        "\n",
        "def bfs(state = initialState):\n",
        "  \n",
        "  #your code\n",
        "  pass\n",
        "\n",
        "\n",
        "bfs(initialState)\n",
        "# bfs ([1,8,2,0,4,3,7,6,5])"
      ],
      "execution_count": 26,
      "outputs": []
    }
  ]
}